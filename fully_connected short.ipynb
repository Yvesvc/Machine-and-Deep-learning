{
 "cells": [
  {
   "cell_type": "code",
   "execution_count": 1,
   "metadata": {},
   "outputs": [
    {
     "name": "stderr",
     "output_type": "stream",
     "text": [
      "C:\\Anaconda\\lib\\site-packages\\h5py\\__init__.py:36: FutureWarning: Conversion of the second argument of issubdtype from `float` to `np.floating` is deprecated. In future, it will be treated as `np.float64 == np.dtype(float).type`.\n",
      "  from ._conv import register_converters as _register_converters\n"
     ]
    }
   ],
   "source": [
    "import numpy as np\n",
    "import pandas as pd\n",
    "%matplotlib inline\n",
    "import matplotlib as mpl\n",
    "import matplotlib.pyplot as plt\n",
    "from matplotlib.legend import Legend\n",
    "plt.style.use('seaborn-white')\n",
    "import tensorflow as tf"
   ]
  },
  {
   "cell_type": "code",
   "execution_count": 2,
   "metadata": {},
   "outputs": [],
   "source": [
    "from sklearn.datasets import load_digits\n",
    "digits = load_digits()\n"
   ]
  },
  {
   "cell_type": "code",
   "execution_count": 4,
   "metadata": {},
   "outputs": [],
   "source": [
    "\n",
    "from sklearn.cross_validation import train_test_split\n",
    "X_train, X_test, y_train, y_test = train_test_split(digits.data,digits.target)"
   ]
  },
  {
   "cell_type": "code",
   "execution_count": 5,
   "metadata": {},
   "outputs": [],
   "source": [
    "n_features = 64\n",
    "n_hidden1 = 100\n",
    "n_hidden2 = 100\n",
    "n_hidden3 = 100\n",
    "n_hidden4 = 100\n",
    "n_hidden5 = 100\n",
    "n_output = 10"
   ]
  },
  {
   "cell_type": "code",
   "execution_count": 6,
   "metadata": {},
   "outputs": [],
   "source": [
    "X = tf.placeholder(tf.float32, shape = (None, 64), name = 'X')\n",
    "y = tf.placeholder(tf.int64, shape = (None), name = 'y')"
   ]
  },
  {
   "cell_type": "code",
   "execution_count": 38,
   "metadata": {},
   "outputs": [],
   "source": [
    "from tensorflow.contrib.layers import fully_connected\n",
    "from tensorflow.contrib.layers import batch_norm\n",
    "\n",
    "\n",
    "\n",
    "with tf.contrib.framework.arg_scope([fully_connected], weights_initializer =tf.contrib.layers.variance_scaling_initializer(), weights_regularizer = tf.contrib.layers.l1_regularizer(scale = 0.01), activation_fn = tf.nn.elu):\n",
    "    hidden1 = fully_connected(inputs = X, num_outputs = n_hidden1)\n",
    "    hidden2 = fully_connected(inputs = hidden1, num_outputs = n_hidden2)\n",
    "    hidden3 = fully_connected(inputs = hidden2, num_outputs = n_hidden3)\n",
    "    hidden4 = fully_connected(inputs = hidden3, num_outputs = n_hidden4)\n",
    "    hidden5 = fully_connected(inputs = hidden4, num_outputs = n_hidden5)\n",
    "    logits = fully_connected(inputs = hidden5, num_outputs = n_output, activation_fn = None) "
   ]
  },
  {
   "cell_type": "code",
   "execution_count": 8,
   "metadata": {},
   "outputs": [],
   "source": [
    "with tf.name_scope('loss'):\n",
    "    xentropy = tf.nn.sparse_softmax_cross_entropy_with_logits(labels = y, logits = logits)\n",
    "    base_loss = tf.reduce_mean(xentropy, name = 'loss')\n",
    "    reg_loss = tf.get_collection(tf.GraphKeys.REGULARIZATION_LOSSES)\n",
    "    loss = tf.add_n([base_loss] + reg_loss, name= 'loss')"
   ]
  },
  {
   "cell_type": "code",
   "execution_count": 9,
   "metadata": {},
   "outputs": [],
   "source": [
    "with tf.name_scope('optimizer'):\n",
    "    optimizer = tf.train.AdamOptimizer(learning_rate = 0.001)\n",
    "    training_op = optimizer.minimize(loss)"
   ]
  },
  {
   "cell_type": "code",
   "execution_count": 10,
   "metadata": {},
   "outputs": [],
   "source": [
    "with tf.name_scope('eval'):\n",
    "    correct = tf.nn.in_top_k(logits,y,1)\n",
    "    acc = tf.reduce_mean(tf.cast(correct, tf.float32))"
   ]
  },
  {
   "cell_type": "code",
   "execution_count": 25,
   "metadata": {},
   "outputs": [
    {
     "name": "stdout",
     "output_type": "stream",
     "text": [
      "The accuracy of the model is 0.9311111\n",
      "Wall time: 44.5 s\n"
     ]
    }
   ],
   "source": [
    "%%time\n",
    "\n",
    "n_epochs = 100\n",
    "batch_size = 50\n",
    "\n",
    "with tf.Session() as sess:\n",
    "    tf.global_variables_initializer().run()\n",
    "    for epoch in range(n_epochs):\n",
    "        for iteration in range(X_train.shape[0] // batch_size):\n",
    "            X_batch = X_train[:iteration * batch_size]\n",
    "            y_batch = y_train[:iteration * batch_size]\n",
    "            sess.run(training_op, feed_dict = {X: X_batch, y: y_batch, is_training:True })\n",
    "    acc_test = acc.eval(feed_dict = {X: X_test, y: y_test, is_training: False})\n",
    "    print ('The accuracy of the model is', acc_test)\n",
    "    "
   ]
  },
  {
   "cell_type": "code",
   "execution_count": 18,
   "metadata": {},
   "outputs": [
    {
     "data": {
      "text/plain": [
       "1347"
      ]
     },
     "execution_count": 18,
     "metadata": {},
     "output_type": "execute_result"
    }
   ],
   "source": [
    "X_train.shape[0]"
   ]
  },
  {
   "cell_type": "code",
   "execution_count": 19,
   "metadata": {},
   "outputs": [
    {
     "data": {
      "text/plain": [
       "array([ 0.,  0.,  1., 13.,  8.,  0.,  0.,  0.,  0.,  0.,  7., 16.,  3.,\n",
       "        0.,  0.,  0.,  0.,  0., 14.,  9.,  0.,  7.,  7.,  0.,  0.,  3.,\n",
       "       16.,  3.,  2., 15.,  9.,  0.,  0.,  9., 16.,  8., 12., 15.,  0.,\n",
       "        0.,  0.,  6., 16., 16., 16.,  7.,  0.,  0.,  0.,  0.,  3., 12.,\n",
       "       15.,  1.,  0.,  0.,  0.,  0.,  0., 13.,  9.,  0.,  0.,  0.])"
      ]
     },
     "execution_count": 19,
     "metadata": {},
     "output_type": "execute_result"
    }
   ],
   "source": [
    "X_train[50]"
   ]
  },
  {
   "cell_type": "code",
   "execution_count": 20,
   "metadata": {},
   "outputs": [
    {
     "data": {
      "text/plain": [
       "array([[ 0.,  0.,  8., 12., 16., 16.,  9.,  0.,  0.,  4., 16., 16., 13.,\n",
       "         9.,  2.,  0.,  0., 11., 14.,  4.,  0.,  0.,  0.,  0.,  0.,  7.,\n",
       "        15., 10.,  1.,  0.,  0.,  0.,  0.,  0., 12., 16., 13.,  1.,  0.,\n",
       "         0.,  0.,  0.,  0.,  4., 16.,  4.,  0.,  0.,  0.,  0.,  5., 10.,\n",
       "        16.,  3.,  0.,  0.,  0.,  0.,  9., 16., 10.,  0.,  0.,  0.],\n",
       "       [ 0.,  0.,  9., 14., 15.,  6.,  0.,  0.,  0.,  2., 16., 12.,  1.,\n",
       "        13.,  0.,  0.,  0.,  3., 12.,  7.,  0.,  8.,  4.,  0.,  0.,  6.,\n",
       "        11.,  4.,  0.,  7.,  2.,  0.,  0.,  4.,  9.,  0.,  0., 12.,  1.,\n",
       "         0.,  0.,  3.,  9.,  0.,  4., 11.,  0.,  0.,  0.,  1., 12.,  5.,\n",
       "        12.,  3.,  0.,  0.,  0.,  0.,  6., 14.,  5.,  0.,  0.,  0.]])"
      ]
     },
     "execution_count": 20,
     "metadata": {},
     "output_type": "execute_result"
    }
   ],
   "source": [
    "X_train[:2]"
   ]
  },
  {
   "cell_type": "code",
   "execution_count": 22,
   "metadata": {},
   "outputs": [
    {
     "data": {
      "text/plain": [
       "(10, 64)"
      ]
     },
     "execution_count": 22,
     "metadata": {},
     "output_type": "execute_result"
    }
   ],
   "source": [
    "mm = 5\n",
    "X_train[:2*mm].shape"
   ]
  },
  {
   "cell_type": "code",
   "execution_count": 23,
   "metadata": {},
   "outputs": [
    {
     "data": {
      "text/plain": [
       "(1347, 64)"
      ]
     },
     "execution_count": 23,
     "metadata": {},
     "output_type": "execute_result"
    }
   ],
   "source": [
    "X_train.shape"
   ]
  },
  {
   "cell_type": "code",
   "execution_count": 26,
   "metadata": {},
   "outputs": [
    {
     "name": "stdout",
     "output_type": "stream",
     "text": [
      "The accuracy of the model is 0.9488889\n",
      "Wall time: 4.48 s\n"
     ]
    }
   ],
   "source": [
    "%%time\n",
    "\n",
    "n_epochs = 100\n",
    "\n",
    "\n",
    "with tf.Session() as sess:\n",
    "    tf.global_variables_initializer().run()\n",
    "    for epoch in range(n_epochs):\n",
    "        sess.run(training_op, feed_dict = {X: X_batch, y: y_batch, is_training:True })\n",
    "    acc_test = acc.eval(feed_dict = {X: X_test, y: y_test, is_training: False})\n",
    "    print ('The accuracy of the model is', acc_test)"
   ]
  },
  {
   "cell_type": "code",
   "execution_count": 32,
   "metadata": {},
   "outputs": [
    {
     "name": "stdout",
     "output_type": "stream",
     "text": [
      "11\n",
      "Wall time: 0 ns\n"
     ]
    }
   ],
   "source": [
    "%%time\n",
    "\n",
    "jahoor = 5 + 6\n",
    "print (jahoor)"
   ]
  },
  {
   "cell_type": "code",
   "execution_count": null,
   "metadata": {},
   "outputs": [],
   "source": []
  }
 ],
 "metadata": {
  "kernelspec": {
   "display_name": "Python 3",
   "language": "python",
   "name": "python3"
  },
  "language_info": {
   "codemirror_mode": {
    "name": "ipython",
    "version": 3
   },
   "file_extension": ".py",
   "mimetype": "text/x-python",
   "name": "python",
   "nbconvert_exporter": "python",
   "pygments_lexer": "ipython3",
   "version": "3.6.4"
  }
 },
 "nbformat": 4,
 "nbformat_minor": 2
}
